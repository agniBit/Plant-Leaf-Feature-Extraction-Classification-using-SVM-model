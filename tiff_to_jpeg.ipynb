{
 "cells": [
  {
   "cell_type": "code",
   "execution_count": 1,
   "metadata": {},
   "outputs": [],
   "source": [
    "from PIL import Image\n",
    "import os\n",
    "import glob"
   ]
  },
  {
   "cell_type": "code",
   "execution_count": 2,
   "metadata": {},
   "outputs": [
    {
     "name": "stdout",
     "output_type": "stream",
     "text": [
      "complete   leaf1       total images  75\n",
      "complete   leaf2       total images  75\n",
      "complete   leaf3       total images  75\n",
      "complete   leaf4       total images  75\n",
      "complete   leaf5       total images  75\n",
      "complete   leaf6       total images  75\n",
      "complete   leaf1       total images  75\n",
      "complete   leaf7       total images  75\n",
      "complete   leaf8       total images  75\n",
      "complete   leaf9       total images  75\n",
      "complete   leaf10       total images  75\n",
      "complete   leaf11       total images  75\n",
      "complete   leaf12       total images  75\n",
      "complete   leaf13       total images  75\n",
      "complete   leaf14       total images  75\n",
      "complete   leaf15       total images  75\n"
     ]
    }
   ],
   "source": [
    "\n",
    "classes = ['leaf1','leaf2','leaf3','leaf4','leaf5','leaf6','leaf1','leaf7','leaf8','leaf9','leaf10',\n",
    "           'leaf11','leaf12','leaf13','leaf14','leaf15']\n",
    "\n",
    "\n",
    "for i in range(0, len(classes)):\n",
    "    #print(classes[i])\n",
    "    impth = os.path.join('dataset/', classes[i], '*.tif')\n",
    "    #print ( impth)\n",
    "    c = 0\n",
    "    for img in glob.glob(impth):\n",
    "        im = Image.open(img)\n",
    "\n",
    "        im.thumbnail(im.size)\n",
    "        img_name = img.split('.')\n",
    "        #print(img_name)\n",
    "        img_name_1 = img_name[0]\n",
    "        img_name_2 = img_name_1.split('\\\\')\n",
    "    \n",
    "        path = 'datasetcrt/' + classes[i]\n",
    "        if not os.path.exists(path):\n",
    "            os.makedirs(path)\n",
    "        path = 'datasetcrt/' + classes[i] + '/' + img_name_2[-1] +'.jpeg'\n",
    "        im.save(path , \"JPEG\", quality=100)\n",
    "        \n",
    "        c = c + 1\n",
    "    print( \"complete   {}       total images  {}\".format(classes[i],c))"
   ]
  }
 ],
 "metadata": {
  "kernelspec": {
   "display_name": "Python 3",
   "language": "python",
   "name": "python3"
  },
  "language_info": {
   "codemirror_mode": {
    "name": "ipython",
    "version": 3
   },
   "file_extension": ".py",
   "mimetype": "text/x-python",
   "name": "python",
   "nbconvert_exporter": "python",
   "pygments_lexer": "ipython3",
   "version": "3.6.6"
  }
 },
 "nbformat": 4,
 "nbformat_minor": 2
}
