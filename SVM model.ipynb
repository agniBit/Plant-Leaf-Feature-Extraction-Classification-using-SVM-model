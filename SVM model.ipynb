{
 "cells": [
  {
   "cell_type": "code",
   "execution_count": 1,
   "metadata": {},
   "outputs": [],
   "source": [
    "from sklearn.model_selection import GridSearchCV \n",
    "import pickle\n",
    "from sklearn.utils import shuffle\n",
    "from sklearn.svm import SVC\n",
    "import numpy as np\n",
    "from sklearn import svm\n",
    "from sklearn import metrics\n",
    "import pickle\n",
    "import pandas as pd\n",
    "from sklearn.preprocessing import StandardScaler\n",
    "from sklearn.model_selection import train_test_split\n",
    "import warnings\n",
    "warnings.filterwarnings(\"ignore\")"
   ]
  },
  {
   "cell_type": "code",
   "execution_count": 2,
   "metadata": {},
   "outputs": [
    {
     "data": {
      "text/html": [
       "<div>\n",
       "<style scoped>\n",
       "    .dataframe tbody tr th:only-of-type {\n",
       "        vertical-align: middle;\n",
       "    }\n",
       "\n",
       "    .dataframe tbody tr th {\n",
       "        vertical-align: top;\n",
       "    }\n",
       "\n",
       "    .dataframe thead th {\n",
       "        text-align: right;\n",
       "    }\n",
       "</style>\n",
       "<table border=\"1\" class=\"dataframe\">\n",
       "  <thead>\n",
       "    <tr style=\"text-align: right;\">\n",
       "      <th></th>\n",
       "      <th>index</th>\n",
       "      <th>total_max</th>\n",
       "      <th>r</th>\n",
       "      <th>g</th>\n",
       "      <th>b</th>\n",
       "      <th>r_d</th>\n",
       "      <th>g_d</th>\n",
       "      <th>b_d</th>\n",
       "      <th>peri</th>\n",
       "      <th>x</th>\n",
       "      <th>...</th>\n",
       "      <th>circ</th>\n",
       "      <th>lbp_energy</th>\n",
       "      <th>lbp_entropy</th>\n",
       "      <th>contrast</th>\n",
       "      <th>dissimilarity</th>\n",
       "      <th>homogeneity</th>\n",
       "      <th>energy</th>\n",
       "      <th>correlation</th>\n",
       "      <th>gabor_energy</th>\n",
       "      <th>gabor_entropy</th>\n",
       "    </tr>\n",
       "  </thead>\n",
       "  <tbody>\n",
       "    <tr>\n",
       "      <th>0</th>\n",
       "      <td>0</td>\n",
       "      <td>59</td>\n",
       "      <td>244.472007</td>\n",
       "      <td>244.637854</td>\n",
       "      <td>244.475990</td>\n",
       "      <td>3.290990</td>\n",
       "      <td>3.232540</td>\n",
       "      <td>3.261062</td>\n",
       "      <td>6352.242091</td>\n",
       "      <td>102</td>\n",
       "      <td>...</td>\n",
       "      <td>22.492034</td>\n",
       "      <td>0.151042</td>\n",
       "      <td>2.766991</td>\n",
       "      <td>83.333815</td>\n",
       "      <td>4.832388</td>\n",
       "      <td>0.313027</td>\n",
       "      <td>0.059691</td>\n",
       "      <td>0.995079</td>\n",
       "      <td>0.460289</td>\n",
       "      <td>1.481977</td>\n",
       "    </tr>\n",
       "    <tr>\n",
       "      <th>0</th>\n",
       "      <td>0</td>\n",
       "      <td>54</td>\n",
       "      <td>248.732345</td>\n",
       "      <td>248.916303</td>\n",
       "      <td>248.724208</td>\n",
       "      <td>3.048503</td>\n",
       "      <td>3.054855</td>\n",
       "      <td>3.040140</td>\n",
       "      <td>5194.467491</td>\n",
       "      <td>49</td>\n",
       "      <td>...</td>\n",
       "      <td>21.271667</td>\n",
       "      <td>0.149276</td>\n",
       "      <td>2.775581</td>\n",
       "      <td>91.714158</td>\n",
       "      <td>5.120396</td>\n",
       "      <td>0.310293</td>\n",
       "      <td>0.063597</td>\n",
       "      <td>0.994339</td>\n",
       "      <td>0.478135</td>\n",
       "      <td>1.470162</td>\n",
       "    </tr>\n",
       "    <tr>\n",
       "      <th>0</th>\n",
       "      <td>0</td>\n",
       "      <td>64</td>\n",
       "      <td>244.694745</td>\n",
       "      <td>244.733385</td>\n",
       "      <td>244.509274</td>\n",
       "      <td>3.073011</td>\n",
       "      <td>3.097050</td>\n",
       "      <td>3.124836</td>\n",
       "      <td>4934.092827</td>\n",
       "      <td>123</td>\n",
       "      <td>...</td>\n",
       "      <td>20.731387</td>\n",
       "      <td>0.150752</td>\n",
       "      <td>2.768430</td>\n",
       "      <td>80.212163</td>\n",
       "      <td>4.672703</td>\n",
       "      <td>0.329030</td>\n",
       "      <td>0.067146</td>\n",
       "      <td>0.994962</td>\n",
       "      <td>0.438472</td>\n",
       "      <td>1.534476</td>\n",
       "    </tr>\n",
       "    <tr>\n",
       "      <th>0</th>\n",
       "      <td>0</td>\n",
       "      <td>74</td>\n",
       "      <td>248.465111</td>\n",
       "      <td>248.711508</td>\n",
       "      <td>248.689545</td>\n",
       "      <td>3.332536</td>\n",
       "      <td>3.280357</td>\n",
       "      <td>3.401647</td>\n",
       "      <td>5936.859409</td>\n",
       "      <td>157</td>\n",
       "      <td>...</td>\n",
       "      <td>21.411939</td>\n",
       "      <td>0.150419</td>\n",
       "      <td>2.770009</td>\n",
       "      <td>75.524779</td>\n",
       "      <td>4.474735</td>\n",
       "      <td>0.345216</td>\n",
       "      <td>0.085150</td>\n",
       "      <td>0.995488</td>\n",
       "      <td>0.533779</td>\n",
       "      <td>1.319005</td>\n",
       "    </tr>\n",
       "    <tr>\n",
       "      <th>0</th>\n",
       "      <td>0</td>\n",
       "      <td>54</td>\n",
       "      <td>248.368230</td>\n",
       "      <td>248.553253</td>\n",
       "      <td>248.428208</td>\n",
       "      <td>2.948238</td>\n",
       "      <td>2.930055</td>\n",
       "      <td>2.970568</td>\n",
       "      <td>3662.456181</td>\n",
       "      <td>90</td>\n",
       "      <td>...</td>\n",
       "      <td>19.218754</td>\n",
       "      <td>0.148587</td>\n",
       "      <td>2.779272</td>\n",
       "      <td>79.923764</td>\n",
       "      <td>4.567175</td>\n",
       "      <td>0.345007</td>\n",
       "      <td>0.075264</td>\n",
       "      <td>0.994896</td>\n",
       "      <td>0.515664</td>\n",
       "      <td>1.362576</td>\n",
       "    </tr>\n",
       "    <tr>\n",
       "      <th>0</th>\n",
       "      <td>0</td>\n",
       "      <td>53</td>\n",
       "      <td>251.744972</td>\n",
       "      <td>251.880616</td>\n",
       "      <td>251.761232</td>\n",
       "      <td>2.844268</td>\n",
       "      <td>2.835204</td>\n",
       "      <td>2.855736</td>\n",
       "      <td>2679.103802</td>\n",
       "      <td>98</td>\n",
       "      <td>...</td>\n",
       "      <td>18.536297</td>\n",
       "      <td>0.151795</td>\n",
       "      <td>2.763754</td>\n",
       "      <td>77.371396</td>\n",
       "      <td>3.964674</td>\n",
       "      <td>0.368731</td>\n",
       "      <td>0.096603</td>\n",
       "      <td>0.995866</td>\n",
       "      <td>0.616675</td>\n",
       "      <td>1.069170</td>\n",
       "    </tr>\n",
       "  </tbody>\n",
       "</table>\n",
       "<p>6 rows × 25 columns</p>\n",
       "</div>"
      ],
      "text/plain": [
       "   index  total_max           r           g           b       r_d       g_d  \\\n",
       "0      0         59  244.472007  244.637854  244.475990  3.290990  3.232540   \n",
       "0      0         54  248.732345  248.916303  248.724208  3.048503  3.054855   \n",
       "0      0         64  244.694745  244.733385  244.509274  3.073011  3.097050   \n",
       "0      0         74  248.465111  248.711508  248.689545  3.332536  3.280357   \n",
       "0      0         54  248.368230  248.553253  248.428208  2.948238  2.930055   \n",
       "0      0         53  251.744972  251.880616  251.761232  2.844268  2.835204   \n",
       "\n",
       "        b_d         peri    x      ...             circ  lbp_energy  \\\n",
       "0  3.261062  6352.242091  102      ...        22.492034    0.151042   \n",
       "0  3.040140  5194.467491   49      ...        21.271667    0.149276   \n",
       "0  3.124836  4934.092827  123      ...        20.731387    0.150752   \n",
       "0  3.401647  5936.859409  157      ...        21.411939    0.150419   \n",
       "0  2.970568  3662.456181   90      ...        19.218754    0.148587   \n",
       "0  2.855736  2679.103802   98      ...        18.536297    0.151795   \n",
       "\n",
       "   lbp_entropy   contrast  dissimilarity  homogeneity    energy  correlation  \\\n",
       "0     2.766991  83.333815       4.832388     0.313027  0.059691     0.995079   \n",
       "0     2.775581  91.714158       5.120396     0.310293  0.063597     0.994339   \n",
       "0     2.768430  80.212163       4.672703     0.329030  0.067146     0.994962   \n",
       "0     2.770009  75.524779       4.474735     0.345216  0.085150     0.995488   \n",
       "0     2.779272  79.923764       4.567175     0.345007  0.075264     0.994896   \n",
       "0     2.763754  77.371396       3.964674     0.368731  0.096603     0.995866   \n",
       "\n",
       "   gabor_energy  gabor_entropy  \n",
       "0      0.460289       1.481977  \n",
       "0      0.478135       1.470162  \n",
       "0      0.438472       1.534476  \n",
       "0      0.533779       1.319005  \n",
       "0      0.515664       1.362576  \n",
       "0      0.616675       1.069170  \n",
       "\n",
       "[6 rows x 25 columns]"
      ]
     },
     "execution_count": 2,
     "metadata": {},
     "output_type": "execute_result"
    }
   ],
   "source": [
    "## data load\n",
    "data = pd.read_csv('feats.csv', index_col=0)\n",
    "data.head(6)\n"
   ]
  },
  {
   "cell_type": "code",
   "execution_count": 3,
   "metadata": {},
   "outputs": [],
   "source": [
    "y = data.iloc[:,:1]\n",
    "y = np.array(y)"
   ]
  },
  {
   "cell_type": "code",
   "execution_count": 4,
   "metadata": {},
   "outputs": [],
   "source": [
    "train_feats = data.iloc[:,1:]\n",
    "train_feats\n",
    "x = np.array(train_feats)"
   ]
  },
  {
   "cell_type": "code",
   "execution_count": 5,
   "metadata": {},
   "outputs": [],
   "source": [
    "# Normalizing the train features to the range [0,1]\n",
    "trMaxs = np.amax( x , axis=0)\n",
    "trMins = np.amin( x , axis=0) \n",
    "trMaxs_rep = np.tile(trMaxs,(len(x),1)) \n",
    "trMins_rep = np.tile(trMins,(len(x),1)) \n",
    "x = np.divide(x-trMins_rep,trMaxs_rep)   "
   ]
  },
  {
   "cell_type": "code",
   "execution_count": 6,
   "metadata": {},
   "outputs": [],
   "source": [
    "train_feat, val_feat, train_label, val_label = train_test_split(x,y, test_size=0.3, random_state = 142)"
   ]
  },
  {
   "cell_type": "code",
   "execution_count": 7,
   "metadata": {
    "scrolled": true
   },
   "outputs": [
    {
     "name": "stdout",
     "output_type": "stream",
     "text": [
      "# Tuning hyper-parameters for precision\n",
      "# Tuning hyper-parameters for recall\n"
     ]
    }
   ],
   "source": [
    "# Set the parameters by cross-validation\n",
    "tuned_parameters = [{'kernel': ['rbf'], 'gamma': [1e-2, 1e-3, 1e-4, 1e-5],'C': [0.001, 0.10, 0.1, 10, 25, 50, 100, 1000,1100,1200,1300,1500,2000]}]\n",
    "\n",
    "scores = ['precision', 'recall']\n",
    "\n",
    "for score in scores:\n",
    "    print(\"# Tuning hyper-parameters for {}\".format(score))\n",
    " \n",
    "    clf_r = GridSearchCV(SVC(C=1), tuned_parameters, cv=5,\n",
    "                       scoring='%s_macro' % score)\n",
    "    clf_r.fit(train_feat, train_label.ravel())   "
   ]
  },
  {
   "cell_type": "code",
   "execution_count": 8,
   "metadata": {},
   "outputs": [
    {
     "name": "stdout",
     "output_type": "stream",
     "text": [
      "Best parameters set found on sets: {'C': 2000, 'gamma': 0.01, 'kernel': 'rbf'} \n",
      "\n",
      "scores on sets:\n",
      "mean: 0.0625  std: (+/-0.0) params: {'C': 0.001, 'gamma': 0.01, 'kernel': 'rbf'}\n",
      "mean: 0.0625  std: (+/-0.0) params: {'C': 0.001, 'gamma': 0.001, 'kernel': 'rbf'}\n",
      "mean: 0.0625  std: (+/-0.0) params: {'C': 0.001, 'gamma': 0.0001, 'kernel': 'rbf'}\n",
      "mean: 0.0625  std: (+/-0.0) params: {'C': 0.001, 'gamma': 1e-05, 'kernel': 'rbf'}\n",
      "mean: 0.0625  std: (+/-0.0) params: {'C': 0.1, 'gamma': 0.01, 'kernel': 'rbf'}\n",
      "mean: 0.0625  std: (+/-0.0) params: {'C': 0.1, 'gamma': 0.001, 'kernel': 'rbf'}\n",
      "mean: 0.0625  std: (+/-0.0) params: {'C': 0.1, 'gamma': 0.0001, 'kernel': 'rbf'}\n",
      "mean: 0.0625  std: (+/-0.0) params: {'C': 0.1, 'gamma': 1e-05, 'kernel': 'rbf'}\n",
      "mean: 0.0625  std: (+/-0.0) params: {'C': 0.1, 'gamma': 0.01, 'kernel': 'rbf'}\n",
      "mean: 0.0625  std: (+/-0.0) params: {'C': 0.1, 'gamma': 0.001, 'kernel': 'rbf'}\n",
      "mean: 0.0625  std: (+/-0.0) params: {'C': 0.1, 'gamma': 0.0001, 'kernel': 'rbf'}\n",
      "mean: 0.0625  std: (+/-0.0) params: {'C': 0.1, 'gamma': 1e-05, 'kernel': 'rbf'}\n",
      "mean: 0.43914231601731607  std: (+/-0.04917667402893565) params: {'C': 10, 'gamma': 0.01, 'kernel': 'rbf'}\n",
      "mean: 0.06375744047619047  std: (+/-0.005011126190799172) params: {'C': 10, 'gamma': 0.001, 'kernel': 'rbf'}\n",
      "mean: 0.0625  std: (+/-0.0) params: {'C': 10, 'gamma': 0.0001, 'kernel': 'rbf'}\n",
      "mean: 0.0625  std: (+/-0.0) params: {'C': 10, 'gamma': 1e-05, 'kernel': 'rbf'}\n",
      "mean: 0.5830108953546453  std: (+/-0.04052075889860762) params: {'C': 25, 'gamma': 0.01, 'kernel': 'rbf'}\n",
      "mean: 0.21673295454545455  std: (+/-0.044064442828126694) params: {'C': 25, 'gamma': 0.001, 'kernel': 'rbf'}\n",
      "mean: 0.0625  std: (+/-0.0) params: {'C': 25, 'gamma': 0.0001, 'kernel': 'rbf'}\n",
      "mean: 0.0625  std: (+/-0.0) params: {'C': 25, 'gamma': 1e-05, 'kernel': 'rbf'}\n",
      "mean: 0.6371981013777889  std: (+/-0.07332183766370767) params: {'C': 50, 'gamma': 0.01, 'kernel': 'rbf'}\n",
      "mean: 0.29616612554112554  std: (+/-0.04432963581378538) params: {'C': 50, 'gamma': 0.001, 'kernel': 'rbf'}\n",
      "mean: 0.0625  std: (+/-0.0) params: {'C': 50, 'gamma': 0.0001, 'kernel': 'rbf'}\n",
      "mean: 0.0625  std: (+/-0.0) params: {'C': 50, 'gamma': 1e-05, 'kernel': 'rbf'}\n",
      "mean: 0.7122884580697081  std: (+/-0.08332185193939101) params: {'C': 100, 'gamma': 0.01, 'kernel': 'rbf'}\n",
      "mean: 0.43914231601731607  std: (+/-0.04917667402893565) params: {'C': 100, 'gamma': 0.001, 'kernel': 'rbf'}\n",
      "mean: 0.06375744047619047  std: (+/-0.005011126190799172) params: {'C': 100, 'gamma': 0.0001, 'kernel': 'rbf'}\n",
      "mean: 0.0625  std: (+/-0.0) params: {'C': 100, 'gamma': 1e-05, 'kernel': 'rbf'}\n",
      "mean: 0.8088440986097235  std: (+/-0.10171110850305748) params: {'C': 1000, 'gamma': 0.01, 'kernel': 'rbf'}\n",
      "mean: 0.7122884580697081  std: (+/-0.08332185193939101) params: {'C': 1000, 'gamma': 0.001, 'kernel': 'rbf'}\n",
      "mean: 0.43914231601731607  std: (+/-0.04917667402893565) params: {'C': 1000, 'gamma': 0.0001, 'kernel': 'rbf'}\n",
      "mean: 0.06375744047619047  std: (+/-0.005011126190799172) params: {'C': 1000, 'gamma': 1e-05, 'kernel': 'rbf'}\n",
      "mean: 0.8111249427655678  std: (+/-0.09515838130699157) params: {'C': 1100, 'gamma': 0.01, 'kernel': 'rbf'}\n",
      "mean: 0.7182678952991453  std: (+/-0.08973415537799043) params: {'C': 1100, 'gamma': 0.001, 'kernel': 'rbf'}\n",
      "mean: 0.4574397997835498  std: (+/-0.06459980585014669) params: {'C': 1100, 'gamma': 0.0001, 'kernel': 'rbf'}\n",
      "mean: 0.06375744047619047  std: (+/-0.005011126190799172) params: {'C': 1100, 'gamma': 1e-05, 'kernel': 'rbf'}\n",
      "mean: 0.812642799908425  std: (+/-0.09540514272757457) params: {'C': 1200, 'gamma': 0.01, 'kernel': 'rbf'}\n",
      "mean: 0.7214355089355089  std: (+/-0.08489491001545751) params: {'C': 1200, 'gamma': 0.001, 'kernel': 'rbf'}\n",
      "mean: 0.46600919913419914  std: (+/-0.07226351142576479) params: {'C': 1200, 'gamma': 0.0001, 'kernel': 'rbf'}\n",
      "mean: 0.06482954545454545  std: (+/-0.009459160805298527) params: {'C': 1200, 'gamma': 1e-05, 'kernel': 'rbf'}\n",
      "mean: 0.8126292717698967  std: (+/-0.09196296536283026) params: {'C': 1300, 'gamma': 0.01, 'kernel': 'rbf'}\n",
      "mean: 0.7335903332778333  std: (+/-0.08196915494454782) params: {'C': 1300, 'gamma': 0.001, 'kernel': 'rbf'}\n",
      "mean: 0.48568790584415583  std: (+/-0.06659361585910498) params: {'C': 1300, 'gamma': 0.0001, 'kernel': 'rbf'}\n",
      "mean: 0.06850784632034632  std: (+/-0.01090831750966922) params: {'C': 1300, 'gamma': 1e-05, 'kernel': 'rbf'}\n",
      "mean: 0.8170996451465201  std: (+/-0.08769518642551774) params: {'C': 1500, 'gamma': 0.01, 'kernel': 'rbf'}\n",
      "mean: 0.7462572366869241  std: (+/-0.0781395134965858) params: {'C': 1500, 'gamma': 0.001, 'kernel': 'rbf'}\n",
      "mean: 0.5174720071595071  std: (+/-0.05022513845895758) params: {'C': 1500, 'gamma': 0.0001, 'kernel': 'rbf'}\n",
      "mean: 0.10820887445887445  std: (+/-0.018714124114449983) params: {'C': 1500, 'gamma': 1e-05, 'kernel': 'rbf'}\n",
      "mean: 0.8235346424408923  std: (+/-0.07148559687569077) params: {'C': 2000, 'gamma': 0.01, 'kernel': 'rbf'}\n",
      "mean: 0.7560859366328117  std: (+/-0.07106460046587677) params: {'C': 2000, 'gamma': 0.001, 'kernel': 'rbf'}\n",
      "mean: 0.5632841637529138  std: (+/-0.03789130439901524) params: {'C': 2000, 'gamma': 0.0001, 'kernel': 'rbf'}\n",
      "mean: 0.17431277056277059  std: (+/-0.04891431109342715) params: {'C': 2000, 'gamma': 1e-05, 'kernel': 'rbf'}\n"
     ]
    }
   ],
   "source": [
    "print(\"Best parameters set found on sets: {} \\n\".format(clf_r.best_params_))\n",
    "print(\"scores on sets:\")\n",
    "means = clf_r.cv_results_['mean_test_score']\n",
    "stds = clf_r.cv_results_['std_test_score']\n",
    "for mean, std, params in zip(means, stds, clf_r.cv_results_['params']):\n",
    "    print(\"mean: {}  std: (+/-{}) params: {}\".format(mean, std * 2, params))"
   ]
  },
  {
   "cell_type": "code",
   "execution_count": 9,
   "metadata": {},
   "outputs": [
    {
     "data": {
      "text/plain": [
       "0.8388888888888889"
      ]
     },
     "execution_count": 9,
     "metadata": {},
     "output_type": "execute_result"
    }
   ],
   "source": [
    "y_true, y_pred = val_label, clf_r.predict(val_feat)\n",
    "metrics.accuracy_score(y_true, y_pred)"
   ]
  },
  {
   "cell_type": "code",
   "execution_count": 10,
   "metadata": {},
   "outputs": [
    {
     "name": "stdout",
     "output_type": "stream",
     "text": [
      "classification scores:\n",
      "             precision    recall  f1-score   support\n",
      "\n",
      "          0       0.27      0.38      0.31        21\n",
      "          1       1.00      1.00      1.00        22\n",
      "          2       0.80      0.59      0.68        34\n",
      "          3       0.95      0.95      0.95        22\n",
      "          4       0.96      1.00      0.98        25\n",
      "          5       1.00      0.88      0.93        24\n",
      "          6       0.23      0.27      0.25        22\n",
      "          7       1.00      1.00      1.00        21\n",
      "          8       0.95      0.86      0.90        21\n",
      "          9       0.82      0.72      0.77        25\n",
      "         10       1.00      1.00      1.00        23\n",
      "         11       1.00      1.00      1.00        13\n",
      "         12       1.00      1.00      1.00        23\n",
      "         13       0.91      1.00      0.95        20\n",
      "         14       0.96      1.00      0.98        22\n",
      "         15       0.95      0.95      0.95        22\n",
      "\n",
      "avg / total       0.86      0.84      0.85       360\n",
      "\n"
     ]
    }
   ],
   "source": [
    "print(\"classification scores:\")\n",
    "print(metrics.classification_report(y_true, y_pred))"
   ]
  },
  {
   "cell_type": "code",
   "execution_count": 11,
   "metadata": {},
   "outputs": [],
   "source": [
    "with open(\"train_model_rbf.pckl\", \"wb\") as f:\n",
    "    pickle.dump(clf_r, f)"
   ]
  },
  {
   "cell_type": "code",
   "execution_count": 12,
   "metadata": {},
   "outputs": [
    {
     "name": "stdout",
     "output_type": "stream",
     "text": [
      "# Tuning hyper-parameters for precision\n",
      "# Tuning hyper-parameters for recall\n"
     ]
    }
   ],
   "source": [
    "tuned_parameters = [{'kernel': ['sigmoid'], 'gamma': [1e-2, 1e-3, 1e-4, 1e-5],'C': [0.001, 0.10, 0.1, 10, 25, 50, 100, 1000,1100,1200,1300,2000]}]\n",
    "\n",
    "\n",
    "\n",
    "scores = ['precision', 'recall']\n",
    "\n",
    "for score in scores:\n",
    "    print(\"# Tuning hyper-parameters for {}\".format(score))\n",
    "\n",
    "    clf_s = GridSearchCV(SVC(C=1), tuned_parameters, cv=5, scoring='%s_macro' % score)\n",
    "    clf_s.fit(train_feat, train_label.ravel())"
   ]
  },
  {
   "cell_type": "code",
   "execution_count": 13,
   "metadata": {},
   "outputs": [
    {
     "name": "stdout",
     "output_type": "stream",
     "text": [
      "Best parameters set found on sets: {'C': 2000, 'gamma': 0.01, 'kernel': 'sigmoid'} \n",
      "\n",
      "scores on sets:\n",
      "mean: 0.0625  std; (+/-0.0) params: {'C': 0.001, 'gamma': 0.01, 'kernel': 'sigmoid'}\n",
      "mean: 0.0625  std; (+/-0.0) params: {'C': 0.001, 'gamma': 0.001, 'kernel': 'sigmoid'}\n",
      "mean: 0.0625  std; (+/-0.0) params: {'C': 0.001, 'gamma': 0.0001, 'kernel': 'sigmoid'}\n",
      "mean: 0.0625  std; (+/-0.0) params: {'C': 0.001, 'gamma': 1e-05, 'kernel': 'sigmoid'}\n",
      "mean: 0.0625  std; (+/-0.0) params: {'C': 0.1, 'gamma': 0.01, 'kernel': 'sigmoid'}\n",
      "mean: 0.0625  std; (+/-0.0) params: {'C': 0.1, 'gamma': 0.001, 'kernel': 'sigmoid'}\n",
      "mean: 0.0625  std; (+/-0.0) params: {'C': 0.1, 'gamma': 0.0001, 'kernel': 'sigmoid'}\n",
      "mean: 0.0625  std; (+/-0.0) params: {'C': 0.1, 'gamma': 1e-05, 'kernel': 'sigmoid'}\n",
      "mean: 0.0625  std; (+/-0.0) params: {'C': 0.1, 'gamma': 0.01, 'kernel': 'sigmoid'}\n",
      "mean: 0.0625  std; (+/-0.0) params: {'C': 0.1, 'gamma': 0.001, 'kernel': 'sigmoid'}\n",
      "mean: 0.0625  std; (+/-0.0) params: {'C': 0.1, 'gamma': 0.0001, 'kernel': 'sigmoid'}\n",
      "mean: 0.0625  std; (+/-0.0) params: {'C': 0.1, 'gamma': 1e-05, 'kernel': 'sigmoid'}\n",
      "mean: 0.29616612554112554  std; (+/-0.04432963581378538) params: {'C': 10, 'gamma': 0.01, 'kernel': 'sigmoid'}\n",
      "mean: 0.0625  std; (+/-0.0) params: {'C': 10, 'gamma': 0.001, 'kernel': 'sigmoid'}\n",
      "mean: 0.0625  std; (+/-0.0) params: {'C': 10, 'gamma': 0.0001, 'kernel': 'sigmoid'}\n",
      "mean: 0.0625  std; (+/-0.0) params: {'C': 10, 'gamma': 1e-05, 'kernel': 'sigmoid'}\n",
      "mean: 0.4783915043290043  std; (+/-0.06634691861244132) params: {'C': 25, 'gamma': 0.01, 'kernel': 'sigmoid'}\n",
      "mean: 0.06599296536796537  std; (+/-0.00942448856230841) params: {'C': 25, 'gamma': 0.001, 'kernel': 'sigmoid'}\n",
      "mean: 0.0625  std; (+/-0.0) params: {'C': 25, 'gamma': 0.0001, 'kernel': 'sigmoid'}\n",
      "mean: 0.0625  std; (+/-0.0) params: {'C': 25, 'gamma': 1e-05, 'kernel': 'sigmoid'}\n",
      "mean: 0.5830108953546453  std; (+/-0.04052075889860762) params: {'C': 50, 'gamma': 0.01, 'kernel': 'sigmoid'}\n",
      "mean: 0.21673295454545455  std; (+/-0.044064442828126694) params: {'C': 50, 'gamma': 0.001, 'kernel': 'sigmoid'}\n",
      "mean: 0.0625  std; (+/-0.0) params: {'C': 50, 'gamma': 0.0001, 'kernel': 'sigmoid'}\n",
      "mean: 0.0625  std; (+/-0.0) params: {'C': 50, 'gamma': 1e-05, 'kernel': 'sigmoid'}\n",
      "mean: 0.6371981013777889  std; (+/-0.07332183766370767) params: {'C': 100, 'gamma': 0.01, 'kernel': 'sigmoid'}\n",
      "mean: 0.29616612554112554  std; (+/-0.04432963581378538) params: {'C': 100, 'gamma': 0.001, 'kernel': 'sigmoid'}\n",
      "mean: 0.0625  std; (+/-0.0) params: {'C': 100, 'gamma': 0.0001, 'kernel': 'sigmoid'}\n",
      "mean: 0.0625  std; (+/-0.0) params: {'C': 100, 'gamma': 1e-05, 'kernel': 'sigmoid'}\n",
      "mean: 0.7923698697136197  std; (+/-0.056723475826388446) params: {'C': 1000, 'gamma': 0.01, 'kernel': 'sigmoid'}\n",
      "mean: 0.6371981013777889  std; (+/-0.07332183766370767) params: {'C': 1000, 'gamma': 0.001, 'kernel': 'sigmoid'}\n",
      "mean: 0.29616612554112554  std; (+/-0.04432963581378538) params: {'C': 1000, 'gamma': 0.0001, 'kernel': 'sigmoid'}\n",
      "mean: 0.0625  std; (+/-0.0) params: {'C': 1000, 'gamma': 1e-05, 'kernel': 'sigmoid'}\n",
      "mean: 0.793964160839161  std; (+/-0.06650312534350927) params: {'C': 1100, 'gamma': 0.01, 'kernel': 'sigmoid'}\n",
      "mean: 0.6571982141122765  std; (+/-0.07663944497992317) params: {'C': 1100, 'gamma': 0.001, 'kernel': 'sigmoid'}\n",
      "mean: 0.3225784632034632  std; (+/-0.023884768941007255) params: {'C': 1100, 'gamma': 0.0001, 'kernel': 'sigmoid'}\n",
      "mean: 0.0625  std; (+/-0.0) params: {'C': 1100, 'gamma': 1e-05, 'kernel': 'sigmoid'}\n",
      "mean: 0.7928167492229992  std; (+/-0.07268047137238592) params: {'C': 1200, 'gamma': 0.01, 'kernel': 'sigmoid'}\n",
      "mean: 0.6657960225538351  std; (+/-0.08449646295108748) params: {'C': 1200, 'gamma': 0.001, 'kernel': 'sigmoid'}\n",
      "mean: 0.3412662337662338  std; (+/-0.022185164559593292) params: {'C': 1200, 'gamma': 0.0001, 'kernel': 'sigmoid'}\n",
      "mean: 0.0625  std; (+/-0.0) params: {'C': 1200, 'gamma': 1e-05, 'kernel': 'sigmoid'}\n",
      "mean: 0.7983900994838496  std; (+/-0.06716892744295887) params: {'C': 1300, 'gamma': 0.01, 'kernel': 'sigmoid'}\n",
      "mean: 0.673852705454268  std; (+/-0.10069283627594357) params: {'C': 1300, 'gamma': 0.001, 'kernel': 'sigmoid'}\n",
      "mean: 0.36017857142857146  std; (+/-0.026049929677999257) params: {'C': 1300, 'gamma': 0.0001, 'kernel': 'sigmoid'}\n",
      "mean: 0.0625  std; (+/-0.0) params: {'C': 1300, 'gamma': 1e-05, 'kernel': 'sigmoid'}\n",
      "mean: 0.8088440986097235  std; (+/-0.10171110850305748) params: {'C': 2000, 'gamma': 0.01, 'kernel': 'sigmoid'}\n",
      "mean: 0.7122884580697081  std; (+/-0.08332185193939101) params: {'C': 2000, 'gamma': 0.001, 'kernel': 'sigmoid'}\n",
      "mean: 0.43914231601731607  std; (+/-0.04917667402893565) params: {'C': 2000, 'gamma': 0.0001, 'kernel': 'sigmoid'}\n",
      "mean: 0.06375744047619047  std; (+/-0.005011126190799172) params: {'C': 2000, 'gamma': 1e-05, 'kernel': 'sigmoid'}\n"
     ]
    }
   ],
   "source": [
    "print(\"Best parameters set found on sets: {} \\n\".format(clf_s.best_params_))\n",
    "print(\"scores on sets:\")\n",
    "means = clf_s.cv_results_['mean_test_score']\n",
    "stds = clf_s.cv_results_['std_test_score']\n",
    "for mean, std, params in zip(means, stds, clf_s.cv_results_['params']):\n",
    "    print(\"mean: {}  std; (+/-{}) params: {}\".format(mean, std * 2, params))"
   ]
  },
  {
   "cell_type": "code",
   "execution_count": 14,
   "metadata": {},
   "outputs": [
    {
     "data": {
      "text/plain": [
       "0.8361111111111111"
      ]
     },
     "execution_count": 14,
     "metadata": {},
     "output_type": "execute_result"
    }
   ],
   "source": [
    "y_true, y_pred = val_label, clf_s.predict(val_feat)\n",
    "metrics.accuracy_score(y_true, y_pred)"
   ]
  },
  {
   "cell_type": "code",
   "execution_count": 15,
   "metadata": {},
   "outputs": [
    {
     "name": "stdout",
     "output_type": "stream",
     "text": [
      "classification scores:\n",
      "             precision    recall  f1-score   support\n",
      "\n",
      "          0       0.31      0.52      0.39        21\n",
      "          1       1.00      1.00      1.00        22\n",
      "          2       0.79      0.56      0.66        34\n",
      "          3       0.95      0.91      0.93        22\n",
      "          4       0.96      1.00      0.98        25\n",
      "          5       1.00      0.88      0.93        24\n",
      "          6       0.19      0.18      0.19        22\n",
      "          7       1.00      1.00      1.00        21\n",
      "          8       0.95      0.86      0.90        21\n",
      "          9       0.82      0.72      0.77        25\n",
      "         10       1.00      1.00      1.00        23\n",
      "         11       0.93      1.00      0.96        13\n",
      "         12       1.00      1.00      1.00        23\n",
      "         13       0.91      1.00      0.95        20\n",
      "         14       1.00      1.00      1.00        22\n",
      "         15       0.91      0.95      0.93        22\n",
      "\n",
      "avg / total       0.86      0.84      0.84       360\n",
      "\n"
     ]
    }
   ],
   "source": [
    "print(\"classification scores:\")\n",
    "print(metrics.classification_report(y_true, y_pred))"
   ]
  },
  {
   "cell_type": "code",
   "execution_count": 16,
   "metadata": {},
   "outputs": [],
   "source": [
    "with open(\"train_model_sigmoid.pckl\", \"wb\") as f:\n",
    "    pickle.dump(clf_s, f)"
   ]
  },
  {
   "cell_type": "code",
   "execution_count": 17,
   "metadata": {
    "scrolled": true
   },
   "outputs": [
    {
     "name": "stdout",
     "output_type": "stream",
     "text": [
      "# Tuning hyper-parameters for precision\n",
      "\n",
      "# Tuning hyper-parameters for recall\n",
      "\n"
     ]
    }
   ],
   "source": [
    "tuned_parameters = [{'kernel': ['linear'], 'C': [0.001, 0.10, 0.1, 10, 25, 50, 100, 1000 ,1200,1300,1500,2000,2100,2200,2300]}]\n",
    "\n",
    "scores = ['precision', 'recall']\n",
    "\n",
    "for score in scores:\n",
    "    print(\"# Tuning hyper-parameters for {}\".format( score))\n",
    "    print()\n",
    "\n",
    "    clf_l = GridSearchCV(SVC(C=1), tuned_parameters, cv=5, scoring='%s_macro' % score)\n",
    "    clf_l.fit(train_feat, train_label.ravel())"
   ]
  },
  {
   "cell_type": "code",
   "execution_count": 18,
   "metadata": {},
   "outputs": [
    {
     "name": "stdout",
     "output_type": "stream",
     "text": [
      "Best parameters set found on sets: {'C': 1200, 'kernel': 'linear'} \n",
      "\n",
      "scores on sets:\n",
      "mean: 0.0625  std: (+/-0.0) params {'C': 0.001, 'kernel': 'linear'}\n",
      "mean: 0.29616612554112554  std: (+/-0.04432963581378538) params {'C': 0.1, 'kernel': 'linear'}\n",
      "mean: 0.29616612554112554  std: (+/-0.04432963581378538) params {'C': 0.1, 'kernel': 'linear'}\n",
      "mean: 0.7923698697136197  std: (+/-0.056723475826388446) params {'C': 10, 'kernel': 'linear'}\n",
      "mean: 0.8138062198218446  std: (+/-0.09155265157470165) params {'C': 25, 'kernel': 'linear'}\n",
      "mean: 0.8376711309523809  std: (+/-0.05863151765416371) params {'C': 50, 'kernel': 'linear'}\n",
      "mean: 0.8396253486097236  std: (+/-0.050642890773262075) params {'C': 100, 'kernel': 'linear'}\n",
      "mean: 0.8510712811494061  std: (+/-0.03395653776184592) params {'C': 1000, 'kernel': 'linear'}\n",
      "mean: 0.8522144088550339  std: (+/-0.036579638491267205) params {'C': 1200, 'kernel': 'linear'}\n",
      "mean: 0.8519961548867799  std: (+/-0.0435050126289358) params {'C': 1300, 'kernel': 'linear'}\n",
      "mean: 0.850807759948385  std: (+/-0.0513394916000265) params {'C': 1500, 'kernel': 'linear'}\n",
      "mean: 0.8517022517413143  std: (+/-0.051863865936728364) params {'C': 2000, 'kernel': 'linear'}\n",
      "mean: 0.8517022517413143  std: (+/-0.051863865936728364) params {'C': 2100, 'kernel': 'linear'}\n",
      "mean: 0.8517022517413143  std: (+/-0.051863865936728364) params {'C': 2200, 'kernel': 'linear'}\n",
      "mean: 0.8517022517413143  std: (+/-0.051863865936728364) params {'C': 2300, 'kernel': 'linear'}\n"
     ]
    }
   ],
   "source": [
    "print(\"Best parameters set found on sets: {} \\n\".format(clf_l.best_params_))\n",
    "print(\"scores on sets:\")\n",
    "    \n",
    "means = clf_l.cv_results_['mean_test_score']\n",
    "stds = clf_l.cv_results_['std_test_score']\n",
    "    \n",
    "for mean, std, params in zip(means, stds, clf_l.cv_results_['params']):\n",
    "    print(\"mean: {}  std: (+/-{}) params {}\".format(mean, std * 2, params))"
   ]
  },
  {
   "cell_type": "code",
   "execution_count": 19,
   "metadata": {},
   "outputs": [
    {
     "data": {
      "text/plain": [
       "0.8527777777777777"
      ]
     },
     "execution_count": 19,
     "metadata": {},
     "output_type": "execute_result"
    }
   ],
   "source": [
    "y_true, y_pred = val_label, clf_l.predict(val_feat)\n",
    "metrics.accuracy_score(y_true, y_pred)"
   ]
  },
  {
   "cell_type": "code",
   "execution_count": 20,
   "metadata": {},
   "outputs": [
    {
     "name": "stdout",
     "output_type": "stream",
     "text": [
      "classification scores:\n",
      "             precision    recall  f1-score   support\n",
      "\n",
      "          0       0.20      0.19      0.20        21\n",
      "          1       1.00      1.00      1.00        22\n",
      "          2       0.93      0.82      0.87        34\n",
      "          3       0.95      0.95      0.95        22\n",
      "          4       0.96      1.00      0.98        25\n",
      "          5       0.92      0.92      0.92        24\n",
      "          6       0.22      0.27      0.24        22\n",
      "          7       1.00      1.00      1.00        21\n",
      "          8       0.90      0.90      0.90        21\n",
      "          9       1.00      0.84      0.91        25\n",
      "         10       1.00      1.00      1.00        23\n",
      "         11       0.75      0.92      0.83        13\n",
      "         12       1.00      1.00      1.00        23\n",
      "         13       0.90      0.90      0.90        20\n",
      "         14       1.00      0.95      0.98        22\n",
      "         15       0.91      0.95      0.93        22\n",
      "\n",
      "avg / total       0.86      0.85      0.86       360\n",
      "\n"
     ]
    }
   ],
   "source": [
    "print(\"classification scores:\")\n",
    "print(metrics.classification_report(y_true, y_pred))"
   ]
  },
  {
   "cell_type": "code",
   "execution_count": 21,
   "metadata": {},
   "outputs": [],
   "source": [
    "with open(\"train_model_linear.pckl\", \"wb\") as f:\n",
    "    pickle.dump(clf_l, f)"
   ]
  },
  {
   "cell_type": "code",
   "execution_count": null,
   "metadata": {},
   "outputs": [],
   "source": []
  }
 ],
 "metadata": {
  "kernelspec": {
   "display_name": "Python 3",
   "language": "python",
   "name": "python3"
  },
  "language_info": {
   "codemirror_mode": {
    "name": "ipython",
    "version": 3
   },
   "file_extension": ".py",
   "mimetype": "text/x-python",
   "name": "python",
   "nbconvert_exporter": "python",
   "pygments_lexer": "ipython3",
   "version": "3.6.6"
  }
 },
 "nbformat": 4,
 "nbformat_minor": 2
}
